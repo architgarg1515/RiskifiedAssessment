{
  "nbformat": 4,
  "nbformat_minor": 0,
  "metadata": {
    "colab": {
      "name": "RiskifiedAssessment",
      "provenance": [],
      "toc_visible": true,
      "authorship_tag": "ABX9TyOp4uH3FCVXDvmghWR8R8cN",
      "include_colab_link": true
    },
    "kernelspec": {
      "name": "python3",
      "display_name": "Python 3"
    }
  },
  "cells": [
    {
      "cell_type": "markdown",
      "metadata": {
        "id": "view-in-github",
        "colab_type": "text"
      },
      "source": [
        "<a href=\"https://colab.research.google.com/github/tom-cruz/RiskifiedAssessment/blob/master/RiskifiedAssessment.ipynb\" target=\"_parent\"><img src=\"https://colab.research.google.com/assets/colab-badge.svg\" alt=\"Open In Colab\"/></a>"
      ]
    },
    {
      "cell_type": "markdown",
      "metadata": {
        "id": "m2-LAecreabm",
        "colab_type": "text"
      },
      "source": [
        "# Riskified Coding Exercise\n",
        "*Exploring a dataset made up of records of shapes with their colors and areas*"
      ]
    },
    {
      "cell_type": "markdown",
      "metadata": {
        "id": "qGdfgbBGfL16",
        "colab_type": "text"
      },
      "source": [
        "## Library Import\n"
      ]
    },
    {
      "cell_type": "code",
      "metadata": {
        "id": "m0_myM_afPIe",
        "colab_type": "code",
        "colab": {}
      },
      "source": [
        "# Import libraries used throughout analysis\n",
        "import pandas as pd\n",
        "import numpy as np\n",
        "import matplotlib.pyplot as plt\n",
        "import seaborn as sns\n",
        "from math import pi, sqrt"
      ],
      "execution_count": null,
      "outputs": []
    },
    {
      "cell_type": "markdown",
      "metadata": {
        "id": "Np2aGzeuewx8",
        "colab_type": "text"
      },
      "source": [
        "## Data Import"
      ]
    },
    {
      "cell_type": "code",
      "metadata": {
        "id": "YXY6W4tHeOmE",
        "colab_type": "code",
        "colab": {}
      },
      "source": [
        "# Assign URL source and file name to variables\n",
        "website = \"https://raw.github.com/tom-cruz/RiskifiedAssessment/master/Analyst_Coding_Test.csv\""
      ],
      "execution_count": null,
      "outputs": []
    },
    {
      "cell_type": "code",
      "metadata": {
        "id": "NvYTCRMefA2K",
        "colab_type": "code",
        "colab": {}
      },
      "source": [
        "# Grab file from website\n",
        "shapes_df = pd.read_csv(website)"
      ],
      "execution_count": null,
      "outputs": []
    },
    {
      "cell_type": "code",
      "metadata": {
        "id": "kNRuB_JOnoK5",
        "colab_type": "code",
        "colab": {
          "base_uri": "https://localhost:8080/",
          "height": 204
        },
        "outputId": "691cfb1c-8409-48da-ac12-88227d5642e9"
      },
      "source": [
        "# Preview DataFrame\n",
        "shapes_df.head()"
      ],
      "execution_count": null,
      "outputs": [
        {
          "output_type": "execute_result",
          "data": {
            "text/html": [
              "<div>\n",
              "<style scoped>\n",
              "    .dataframe tbody tr th:only-of-type {\n",
              "        vertical-align: middle;\n",
              "    }\n",
              "\n",
              "    .dataframe tbody tr th {\n",
              "        vertical-align: top;\n",
              "    }\n",
              "\n",
              "    .dataframe thead th {\n",
              "        text-align: right;\n",
              "    }\n",
              "</style>\n",
              "<table border=\"1\" class=\"dataframe\">\n",
              "  <thead>\n",
              "    <tr style=\"text-align: right;\">\n",
              "      <th></th>\n",
              "      <th>shape</th>\n",
              "      <th>color</th>\n",
              "      <th>area</th>\n",
              "    </tr>\n",
              "  </thead>\n",
              "  <tbody>\n",
              "    <tr>\n",
              "      <th>0</th>\n",
              "      <td>square</td>\n",
              "      <td>yellow</td>\n",
              "      <td>9409.0</td>\n",
              "    </tr>\n",
              "    <tr>\n",
              "      <th>1</th>\n",
              "      <td>circle</td>\n",
              "      <td>yellow</td>\n",
              "      <td>4071.5</td>\n",
              "    </tr>\n",
              "    <tr>\n",
              "      <th>2</th>\n",
              "      <td>triangle</td>\n",
              "      <td>blue</td>\n",
              "      <td>2028.0</td>\n",
              "    </tr>\n",
              "    <tr>\n",
              "      <th>3</th>\n",
              "      <td>square</td>\n",
              "      <td>blue</td>\n",
              "      <td>3025.0</td>\n",
              "    </tr>\n",
              "    <tr>\n",
              "      <th>4</th>\n",
              "      <td>square</td>\n",
              "      <td>blue</td>\n",
              "      <td>9216.0</td>\n",
              "    </tr>\n",
              "  </tbody>\n",
              "</table>\n",
              "</div>"
            ],
            "text/plain": [
              "      shape   color    area\n",
              "0    square  yellow  9409.0\n",
              "1    circle  yellow  4071.5\n",
              "2  triangle    blue  2028.0\n",
              "3    square    blue  3025.0\n",
              "4    square    blue  9216.0"
            ]
          },
          "metadata": {
            "tags": []
          },
          "execution_count": 150
        }
      ]
    },
    {
      "cell_type": "code",
      "metadata": {
        "id": "qIuf6rO3lpHE",
        "colab_type": "code",
        "colab": {
          "base_uri": "https://localhost:8080/",
          "height": 187
        },
        "outputId": "7bdd2e8c-7337-48a9-fa90-d6b053758665"
      },
      "source": [
        "# Verify all records and data types are imported correctly\n",
        "shapes_df.info()"
      ],
      "execution_count": null,
      "outputs": [
        {
          "output_type": "stream",
          "text": [
            "<class 'pandas.core.frame.DataFrame'>\n",
            "RangeIndex: 1000 entries, 0 to 999\n",
            "Data columns (total 3 columns):\n",
            " #   Column  Non-Null Count  Dtype  \n",
            "---  ------  --------------  -----  \n",
            " 0   shape   1000 non-null   object \n",
            " 1   color   1000 non-null   object \n",
            " 2   area    1000 non-null   float64\n",
            "dtypes: float64(1), object(2)\n",
            "memory usage: 23.6+ KB\n"
          ],
          "name": "stdout"
        }
      ]
    },
    {
      "cell_type": "markdown",
      "metadata": {
        "id": "SXCa0CD7mybz",
        "colab_type": "text"
      },
      "source": [
        "## Exploratory Data Analysis"
      ]
    },
    {
      "cell_type": "markdown",
      "metadata": {
        "id": "kjFQIIEfnhAY",
        "colab_type": "text"
      },
      "source": [
        "**1. Draw a boxplot showing the area size distribution for each shape.**"
      ]
    },
    {
      "cell_type": "code",
      "metadata": {
        "id": "SsYW7upnqGKr",
        "colab_type": "code",
        "colab": {
          "base_uri": "https://localhost:8080/",
          "height": 295
        },
        "outputId": "a5b53ef1-3145-4513-fdf0-c8924ce94b41"
      },
      "source": [
        "# Create boxplot shape v. area\n",
        "ax1 = sns.boxplot(x='shape',y='area',data=shapes_df)\n",
        "ax1.set(xlabel='Shape',ylabel='Area (sq. in.)')\n",
        "plt.title('Area Size Distribution of Shapes')\n",
        "\n",
        "# Display Plot\n",
        "plt.show(ax1)"
      ],
      "execution_count": null,
      "outputs": [
        {
          "output_type": "display_data",
          "data": {
            "image/png": "[encoded data removed]",
            "text/plain": [
              "<Figure size 432x288 with 1 Axes>"
            ]
          },
          "metadata": {
            "tags": [],
            "needs_background": "light"
          }
        }
      ]
    },
    {
      "cell_type": "markdown",
      "metadata": {
        "id": "O-_HfjvuoMey",
        "colab_type": "text"
      },
      "source": [
        "**2. Calculate the mean, max, and standard deviation of the area size of each color.**"
      ]
    },
    {
      "cell_type": "code",
      "metadata": {
        "id": "cOwSKGAhragz",
        "colab_type": "code",
        "colab": {
          "base_uri": "https://localhost:8080/",
          "height": 235
        },
        "outputId": "adb989c9-38b7-40cd-bbd1-a6b40a07ae48"
      },
      "source": [
        "# Calculate Summary Statistics of Dataframe by Color\n",
        "sumStat_color = shapes_df.groupby('color').describe()\n",
        "\n",
        "# View Transformed DataFrame\n",
        "sumStat_color"
      ],
      "execution_count": null,
      "outputs": [
        {
          "output_type": "execute_result",
          "data": {
            "text/html": [
              "<div>\n",
              "<style scoped>\n",
              "    .dataframe tbody tr th:only-of-type {\n",
              "        vertical-align: middle;\n",
              "    }\n",
              "\n",
              "    .dataframe tbody tr th {\n",
              "        vertical-align: top;\n",
              "    }\n",
              "\n",
              "    .dataframe thead tr th {\n",
              "        text-align: left;\n",
              "    }\n",
              "\n",
              "    .dataframe thead tr:last-of-type th {\n",
              "        text-align: right;\n",
              "    }\n",
              "</style>\n",
              "<table border=\"1\" class=\"dataframe\">\n",
              "  <thead>\n",
              "    <tr>\n",
              "      <th></th>\n",
              "      <th colspan=\"8\" halign=\"left\">area</th>\n",
              "    </tr>\n",
              "    <tr>\n",
              "      <th></th>\n",
              "      <th>count</th>\n",
              "      <th>mean</th>\n",
              "      <th>std</th>\n",
              "      <th>min</th>\n",
              "      <th>25%</th>\n",
              "      <th>50%</th>\n",
              "      <th>75%</th>\n",
              "      <th>max</th>\n",
              "    </tr>\n",
              "    <tr>\n",
              "      <th>color</th>\n",
              "      <th></th>\n",
              "      <th></th>\n",
              "      <th></th>\n",
              "      <th></th>\n",
              "      <th></th>\n",
              "      <th></th>\n",
              "      <th></th>\n",
              "      <th></th>\n",
              "    </tr>\n",
              "  </thead>\n",
              "  <tbody>\n",
              "    <tr>\n",
              "      <th>blue</th>\n",
              "      <td>360.0</td>\n",
              "      <td>3208.131667</td>\n",
              "      <td>3039.212965</td>\n",
              "      <td>0.8</td>\n",
              "      <td>625.000</td>\n",
              "      <td>2500.0</td>\n",
              "      <td>5301.250</td>\n",
              "      <td>21642.4</td>\n",
              "    </tr>\n",
              "    <tr>\n",
              "      <th>green</th>\n",
              "      <td>78.0</td>\n",
              "      <td>5761.119231</td>\n",
              "      <td>6695.029606</td>\n",
              "      <td>1.0</td>\n",
              "      <td>857.725</td>\n",
              "      <td>3844.0</td>\n",
              "      <td>7396.000</td>\n",
              "      <td>27759.1</td>\n",
              "    </tr>\n",
              "    <tr>\n",
              "      <th>red</th>\n",
              "      <td>290.0</td>\n",
              "      <td>3815.871034</td>\n",
              "      <td>5092.678377</td>\n",
              "      <td>0.8</td>\n",
              "      <td>722.850</td>\n",
              "      <td>2436.8</td>\n",
              "      <td>5012.450</td>\n",
              "      <td>31415.9</td>\n",
              "    </tr>\n",
              "    <tr>\n",
              "      <th>yellow</th>\n",
              "      <td>272.0</td>\n",
              "      <td>4538.208088</td>\n",
              "      <td>5352.460578</td>\n",
              "      <td>1.0</td>\n",
              "      <td>1003.675</td>\n",
              "      <td>2818.2</td>\n",
              "      <td>6271.175</td>\n",
              "      <td>31415.9</td>\n",
              "    </tr>\n",
              "  </tbody>\n",
              "</table>\n",
              "</div>"
            ],
            "text/plain": [
              "         area                            ...                           \n",
              "        count         mean          std  ...     50%       75%      max\n",
              "color                                    ...                           \n",
              "blue    360.0  3208.131667  3039.212965  ...  2500.0  5301.250  21642.4\n",
              "green    78.0  5761.119231  6695.029606  ...  3844.0  7396.000  27759.1\n",
              "red     290.0  3815.871034  5092.678377  ...  2436.8  5012.450  31415.9\n",
              "yellow  272.0  4538.208088  5352.460578  ...  2818.2  6271.175  31415.9\n",
              "\n",
              "[4 rows x 8 columns]"
            ]
          },
          "metadata": {
            "tags": []
          },
          "execution_count": 153
        }
      ]
    },
    {
      "cell_type": "markdown",
      "metadata": {
        "id": "isiPZ2jcoNmv",
        "colab_type": "text"
      },
      "source": [
        "**3. What is the average area size of a yellow square?**"
      ]
    },
    {
      "cell_type": "code",
      "metadata": {
        "id": "bDBGbU0LsJF5",
        "colab_type": "code",
        "colab": {
          "base_uri": "https://localhost:8080/",
          "height": 421
        },
        "outputId": "8f08cc4e-2b7a-4b3c-ce82-55406d242f2c"
      },
      "source": [
        "# Calculate Summary Statistics of Dataframe by Shape and Color\n",
        "sumStat_shape_color = shapes_df.groupby(['shape','color']).describe()\n",
        "\n",
        "# View Transformed DataFrame\n",
        "sumStat_shape_color"
      ],
      "execution_count": null,
      "outputs": [
        {
          "output_type": "execute_result",
          "data": {
            "text/html": [
              "<div>\n",
              "<style scoped>\n",
              "    .dataframe tbody tr th:only-of-type {\n",
              "        vertical-align: middle;\n",
              "    }\n",
              "\n",
              "    .dataframe tbody tr th {\n",
              "        vertical-align: top;\n",
              "    }\n",
              "\n",
              "    .dataframe thead tr th {\n",
              "        text-align: left;\n",
              "    }\n",
              "\n",
              "    .dataframe thead tr:last-of-type th {\n",
              "        text-align: right;\n",
              "    }\n",
              "</style>\n",
              "<table border=\"1\" class=\"dataframe\">\n",
              "  <thead>\n",
              "    <tr>\n",
              "      <th></th>\n",
              "      <th></th>\n",
              "      <th colspan=\"8\" halign=\"left\">area</th>\n",
              "    </tr>\n",
              "    <tr>\n",
              "      <th></th>\n",
              "      <th></th>\n",
              "      <th>count</th>\n",
              "      <th>mean</th>\n",
              "      <th>std</th>\n",
              "      <th>min</th>\n",
              "      <th>25%</th>\n",
              "      <th>50%</th>\n",
              "      <th>75%</th>\n",
              "      <th>max</th>\n",
              "    </tr>\n",
              "    <tr>\n",
              "      <th>shape</th>\n",
              "      <th>color</th>\n",
              "      <th></th>\n",
              "      <th></th>\n",
              "      <th></th>\n",
              "      <th></th>\n",
              "      <th></th>\n",
              "      <th></th>\n",
              "      <th></th>\n",
              "      <th></th>\n",
              "    </tr>\n",
              "  </thead>\n",
              "  <tbody>\n",
              "    <tr>\n",
              "      <th rowspan=\"4\" valign=\"top\">circle</th>\n",
              "      <th>blue</th>\n",
              "      <td>9.0</td>\n",
              "      <td>8740.600000</td>\n",
              "      <td>7690.067899</td>\n",
              "      <td>452.4</td>\n",
              "      <td>3217.000</td>\n",
              "      <td>7238.20</td>\n",
              "      <td>13273.200</td>\n",
              "      <td>21642.4</td>\n",
              "    </tr>\n",
              "    <tr>\n",
              "      <th>green</th>\n",
              "      <td>31.0</td>\n",
              "      <td>10489.977419</td>\n",
              "      <td>8192.054483</td>\n",
              "      <td>380.1</td>\n",
              "      <td>3681.950</td>\n",
              "      <td>9852.00</td>\n",
              "      <td>16972.450</td>\n",
              "      <td>27759.1</td>\n",
              "    </tr>\n",
              "    <tr>\n",
              "      <th>red</th>\n",
              "      <td>30.0</td>\n",
              "      <td>12871.420000</td>\n",
              "      <td>10671.755438</td>\n",
              "      <td>78.5</td>\n",
              "      <td>2507.775</td>\n",
              "      <td>12469.00</td>\n",
              "      <td>22968.175</td>\n",
              "      <td>31415.9</td>\n",
              "    </tr>\n",
              "    <tr>\n",
              "      <th>yellow</th>\n",
              "      <td>50.0</td>\n",
              "      <td>9888.412000</td>\n",
              "      <td>9226.523708</td>\n",
              "      <td>28.3</td>\n",
              "      <td>2165.325</td>\n",
              "      <td>6799.95</td>\n",
              "      <td>17212.825</td>\n",
              "      <td>31415.9</td>\n",
              "    </tr>\n",
              "    <tr>\n",
              "      <th rowspan=\"4\" valign=\"top\">square</th>\n",
              "      <th>blue</th>\n",
              "      <td>152.0</td>\n",
              "      <td>3857.993421</td>\n",
              "      <td>3073.266294</td>\n",
              "      <td>1.0</td>\n",
              "      <td>900.000</td>\n",
              "      <td>3080.50</td>\n",
              "      <td>6440.250</td>\n",
              "      <td>9801.0</td>\n",
              "    </tr>\n",
              "    <tr>\n",
              "      <th>green</th>\n",
              "      <td>47.0</td>\n",
              "      <td>2642.085106</td>\n",
              "      <td>2500.661155</td>\n",
              "      <td>1.0</td>\n",
              "      <td>401.000</td>\n",
              "      <td>1764.00</td>\n",
              "      <td>4226.000</td>\n",
              "      <td>9025.0</td>\n",
              "    </tr>\n",
              "    <tr>\n",
              "      <th>red</th>\n",
              "      <td>56.0</td>\n",
              "      <td>3154.017857</td>\n",
              "      <td>3083.168880</td>\n",
              "      <td>4.0</td>\n",
              "      <td>625.000</td>\n",
              "      <td>1849.00</td>\n",
              "      <td>5551.000</td>\n",
              "      <td>9801.0</td>\n",
              "    </tr>\n",
              "    <tr>\n",
              "      <th>yellow</th>\n",
              "      <td>222.0</td>\n",
              "      <td>3333.207207</td>\n",
              "      <td>2884.614921</td>\n",
              "      <td>1.0</td>\n",
              "      <td>841.000</td>\n",
              "      <td>2500.00</td>\n",
              "      <td>5439.250</td>\n",
              "      <td>9801.0</td>\n",
              "    </tr>\n",
              "    <tr>\n",
              "      <th rowspan=\"2\" valign=\"top\">triangle</th>\n",
              "      <th>blue</th>\n",
              "      <td>199.0</td>\n",
              "      <td>2461.542714</td>\n",
              "      <td>2208.959730</td>\n",
              "      <td>0.8</td>\n",
              "      <td>432.000</td>\n",
              "      <td>1950.80</td>\n",
              "      <td>4107.000</td>\n",
              "      <td>7350.8</td>\n",
              "    </tr>\n",
              "    <tr>\n",
              "      <th>red</th>\n",
              "      <td>204.0</td>\n",
              "      <td>2665.857843</td>\n",
              "      <td>2123.497559</td>\n",
              "      <td>0.8</td>\n",
              "      <td>620.100</td>\n",
              "      <td>2227.90</td>\n",
              "      <td>4332.000</td>\n",
              "      <td>7350.8</td>\n",
              "    </tr>\n",
              "  </tbody>\n",
              "</table>\n",
              "</div>"
            ],
            "text/plain": [
              "                  area                ...                    \n",
              "                 count          mean  ...        75%      max\n",
              "shape    color                        ...                    \n",
              "circle   blue      9.0   8740.600000  ...  13273.200  21642.4\n",
              "         green    31.0  10489.977419  ...  16972.450  27759.1\n",
              "         red      30.0  12871.420000  ...  22968.175  31415.9\n",
              "         yellow   50.0   9888.412000  ...  17212.825  31415.9\n",
              "square   blue    152.0   3857.993421  ...   6440.250   9801.0\n",
              "         green    47.0   2642.085106  ...   4226.000   9025.0\n",
              "         red      56.0   3154.017857  ...   5551.000   9801.0\n",
              "         yellow  222.0   3333.207207  ...   5439.250   9801.0\n",
              "triangle blue    199.0   2461.542714  ...   4107.000   7350.8\n",
              "         red     204.0   2665.857843  ...   4332.000   7350.8\n",
              "\n",
              "[10 rows x 8 columns]"
            ]
          },
          "metadata": {
            "tags": []
          },
          "execution_count": 154
        }
      ]
    },
    {
      "cell_type": "markdown",
      "metadata": {
        "id": "aFq05QGctPLg",
        "colab_type": "text"
      },
      "source": [
        "*According to the table above, the average size of a yellow square is **3333.207 $ in^2$**.*"
      ]
    },
    {
      "cell_type": "markdown",
      "metadata": {
        "id": "Alg5HTK7oN9C",
        "colab_type": "text"
      },
      "source": [
        "**4. Which shape is most likely to be green?**"
      ]
    },
    {
      "cell_type": "code",
      "metadata": {
        "id": "r6KrK3sXu16a",
        "colab_type": "code",
        "colab": {
          "base_uri": "https://localhost:8080/",
          "height": 421
        },
        "outputId": "1c787dad-873d-4c1e-cbfd-9512138fe3c6"
      },
      "source": [
        "# Calculate Shapes by Color Percent of Total\n",
        "sumStat_shape_color[('area','Percent_Total')] = sumStat_shape_color[('area','count')]/sumStat_shape_color[('area','count')].agg('sum')*100\n",
        "\n",
        "# View Transformed DataFrame\n",
        "sumStat_shape_color"
      ],
      "execution_count": null,
      "outputs": [
        {
          "output_type": "execute_result",
          "data": {
            "text/html": [
              "<div>\n",
              "<style scoped>\n",
              "    .dataframe tbody tr th:only-of-type {\n",
              "        vertical-align: middle;\n",
              "    }\n",
              "\n",
              "    .dataframe tbody tr th {\n",
              "        vertical-align: top;\n",
              "    }\n",
              "\n",
              "    .dataframe thead tr th {\n",
              "        text-align: left;\n",
              "    }\n",
              "\n",
              "    .dataframe thead tr:last-of-type th {\n",
              "        text-align: right;\n",
              "    }\n",
              "</style>\n",
              "<table border=\"1\" class=\"dataframe\">\n",
              "  <thead>\n",
              "    <tr>\n",
              "      <th></th>\n",
              "      <th></th>\n",
              "      <th colspan=\"9\" halign=\"left\">area</th>\n",
              "    </tr>\n",
              "    <tr>\n",
              "      <th></th>\n",
              "      <th></th>\n",
              "      <th>count</th>\n",
              "      <th>mean</th>\n",
              "      <th>std</th>\n",
              "      <th>min</th>\n",
              "      <th>25%</th>\n",
              "      <th>50%</th>\n",
              "      <th>75%</th>\n",
              "      <th>max</th>\n",
              "      <th>Percent_Total</th>\n",
              "    </tr>\n",
              "    <tr>\n",
              "      <th>shape</th>\n",
              "      <th>color</th>\n",
              "      <th></th>\n",
              "      <th></th>\n",
              "      <th></th>\n",
              "      <th></th>\n",
              "      <th></th>\n",
              "      <th></th>\n",
              "      <th></th>\n",
              "      <th></th>\n",
              "      <th></th>\n",
              "    </tr>\n",
              "  </thead>\n",
              "  <tbody>\n",
              "    <tr>\n",
              "      <th rowspan=\"4\" valign=\"top\">circle</th>\n",
              "      <th>blue</th>\n",
              "      <td>9.0</td>\n",
              "      <td>8740.600000</td>\n",
              "      <td>7690.067899</td>\n",
              "      <td>452.4</td>\n",
              "      <td>3217.000</td>\n",
              "      <td>7238.20</td>\n",
              "      <td>13273.200</td>\n",
              "      <td>21642.4</td>\n",
              "      <td>0.9</td>\n",
              "    </tr>\n",
              "    <tr>\n",
              "      <th>green</th>\n",
              "      <td>31.0</td>\n",
              "      <td>10489.977419</td>\n",
              "      <td>8192.054483</td>\n",
              "      <td>380.1</td>\n",
              "      <td>3681.950</td>\n",
              "      <td>9852.00</td>\n",
              "      <td>16972.450</td>\n",
              "      <td>27759.1</td>\n",
              "      <td>3.1</td>\n",
              "    </tr>\n",
              "    <tr>\n",
              "      <th>red</th>\n",
              "      <td>30.0</td>\n",
              "      <td>12871.420000</td>\n",
              "      <td>10671.755438</td>\n",
              "      <td>78.5</td>\n",
              "      <td>2507.775</td>\n",
              "      <td>12469.00</td>\n",
              "      <td>22968.175</td>\n",
              "      <td>31415.9</td>\n",
              "      <td>3.0</td>\n",
              "    </tr>\n",
              "    <tr>\n",
              "      <th>yellow</th>\n",
              "      <td>50.0</td>\n",
              "      <td>9888.412000</td>\n",
              "      <td>9226.523708</td>\n",
              "      <td>28.3</td>\n",
              "      <td>2165.325</td>\n",
              "      <td>6799.95</td>\n",
              "      <td>17212.825</td>\n",
              "      <td>31415.9</td>\n",
              "      <td>5.0</td>\n",
              "    </tr>\n",
              "    <tr>\n",
              "      <th rowspan=\"4\" valign=\"top\">square</th>\n",
              "      <th>blue</th>\n",
              "      <td>152.0</td>\n",
              "      <td>3857.993421</td>\n",
              "      <td>3073.266294</td>\n",
              "      <td>1.0</td>\n",
              "      <td>900.000</td>\n",
              "      <td>3080.50</td>\n",
              "      <td>6440.250</td>\n",
              "      <td>9801.0</td>\n",
              "      <td>15.2</td>\n",
              "    </tr>\n",
              "    <tr>\n",
              "      <th>green</th>\n",
              "      <td>47.0</td>\n",
              "      <td>2642.085106</td>\n",
              "      <td>2500.661155</td>\n",
              "      <td>1.0</td>\n",
              "      <td>401.000</td>\n",
              "      <td>1764.00</td>\n",
              "      <td>4226.000</td>\n",
              "      <td>9025.0</td>\n",
              "      <td>4.7</td>\n",
              "    </tr>\n",
              "    <tr>\n",
              "      <th>red</th>\n",
              "      <td>56.0</td>\n",
              "      <td>3154.017857</td>\n",
              "      <td>3083.168880</td>\n",
              "      <td>4.0</td>\n",
              "      <td>625.000</td>\n",
              "      <td>1849.00</td>\n",
              "      <td>5551.000</td>\n",
              "      <td>9801.0</td>\n",
              "      <td>5.6</td>\n",
              "    </tr>\n",
              "    <tr>\n",
              "      <th>yellow</th>\n",
              "      <td>222.0</td>\n",
              "      <td>3333.207207</td>\n",
              "      <td>2884.614921</td>\n",
              "      <td>1.0</td>\n",
              "      <td>841.000</td>\n",
              "      <td>2500.00</td>\n",
              "      <td>5439.250</td>\n",
              "      <td>9801.0</td>\n",
              "      <td>22.2</td>\n",
              "    </tr>\n",
              "    <tr>\n",
              "      <th rowspan=\"2\" valign=\"top\">triangle</th>\n",
              "      <th>blue</th>\n",
              "      <td>199.0</td>\n",
              "      <td>2461.542714</td>\n",
              "      <td>2208.959730</td>\n",
              "      <td>0.8</td>\n",
              "      <td>432.000</td>\n",
              "      <td>1950.80</td>\n",
              "      <td>4107.000</td>\n",
              "      <td>7350.8</td>\n",
              "      <td>19.9</td>\n",
              "    </tr>\n",
              "    <tr>\n",
              "      <th>red</th>\n",
              "      <td>204.0</td>\n",
              "      <td>2665.857843</td>\n",
              "      <td>2123.497559</td>\n",
              "      <td>0.8</td>\n",
              "      <td>620.100</td>\n",
              "      <td>2227.90</td>\n",
              "      <td>4332.000</td>\n",
              "      <td>7350.8</td>\n",
              "      <td>20.4</td>\n",
              "    </tr>\n",
              "  </tbody>\n",
              "</table>\n",
              "</div>"
            ],
            "text/plain": [
              "                  area                ...                       \n",
              "                 count          mean  ...      max Percent_Total\n",
              "shape    color                        ...                       \n",
              "circle   blue      9.0   8740.600000  ...  21642.4           0.9\n",
              "         green    31.0  10489.977419  ...  27759.1           3.1\n",
              "         red      30.0  12871.420000  ...  31415.9           3.0\n",
              "         yellow   50.0   9888.412000  ...  31415.9           5.0\n",
              "square   blue    152.0   3857.993421  ...   9801.0          15.2\n",
              "         green    47.0   2642.085106  ...   9025.0           4.7\n",
              "         red      56.0   3154.017857  ...   9801.0           5.6\n",
              "         yellow  222.0   3333.207207  ...   9801.0          22.2\n",
              "triangle blue    199.0   2461.542714  ...   7350.8          19.9\n",
              "         red     204.0   2665.857843  ...   7350.8          20.4\n",
              "\n",
              "[10 rows x 9 columns]"
            ]
          },
          "metadata": {
            "tags": []
          },
          "execution_count": 155
        }
      ]
    },
    {
      "cell_type": "markdown",
      "metadata": {
        "id": "ePKncz5HwKOv",
        "colab_type": "text"
      },
      "source": [
        "*According to the calculations above, the shape that is most likely to be green is a **square**, with a liklihood of 4.7%.*"
      ]
    },
    {
      "cell_type": "markdown",
      "metadata": {
        "id": "ZnOIhrxnoOXO",
        "colab_type": "text"
      },
      "source": [
        "**5. Given the fact that the object is red, with an area size larger than 3,000 - what are the chances the object is a square? a triangle? a circle?**"
      ]
    },
    {
      "cell_type": "code",
      "metadata": {
        "id": "elVdw5O-yyRw",
        "colab_type": "code",
        "colab": {
          "base_uri": "https://localhost:8080/",
          "height": 204
        },
        "outputId": "21e5cd18-1879-4d75-acda-6220cf90f230"
      },
      "source": [
        "# Calculate Summary Statistics of Dataframe by Shape and Color - Filtered to include red objects with area larger than 3000\n",
        "sumStat_redShape = shapes_df[(shapes_df['color'] == 'red') & (shapes_df['area'] > 3000)].groupby(['shape','color']).describe()\n",
        "\n",
        "# Calculate Red Shapes with Area larger than 3000 sq. in. Percent of Total\n",
        "sumStat_redShape[('area','Percent_Total')] = sumStat_redShape[('area','count')]/sumStat_redShape[('area','count')].agg('sum')*100\n",
        "\n",
        "# View Transformed DataFrame\n",
        "sumStat_redShape"
      ],
      "execution_count": null,
      "outputs": [
        {
          "output_type": "execute_result",
          "data": {
            "text/html": [
              "<div>\n",
              "<style scoped>\n",
              "    .dataframe tbody tr th:only-of-type {\n",
              "        vertical-align: middle;\n",
              "    }\n",
              "\n",
              "    .dataframe tbody tr th {\n",
              "        vertical-align: top;\n",
              "    }\n",
              "\n",
              "    .dataframe thead tr th {\n",
              "        text-align: left;\n",
              "    }\n",
              "\n",
              "    .dataframe thead tr:last-of-type th {\n",
              "        text-align: right;\n",
              "    }\n",
              "</style>\n",
              "<table border=\"1\" class=\"dataframe\">\n",
              "  <thead>\n",
              "    <tr>\n",
              "      <th></th>\n",
              "      <th></th>\n",
              "      <th colspan=\"9\" halign=\"left\">area</th>\n",
              "    </tr>\n",
              "    <tr>\n",
              "      <th></th>\n",
              "      <th></th>\n",
              "      <th>count</th>\n",
              "      <th>mean</th>\n",
              "      <th>std</th>\n",
              "      <th>min</th>\n",
              "      <th>25%</th>\n",
              "      <th>50%</th>\n",
              "      <th>75%</th>\n",
              "      <th>max</th>\n",
              "      <th>Percent_Total</th>\n",
              "    </tr>\n",
              "    <tr>\n",
              "      <th>shape</th>\n",
              "      <th>color</th>\n",
              "      <th></th>\n",
              "      <th></th>\n",
              "      <th></th>\n",
              "      <th></th>\n",
              "      <th></th>\n",
              "      <th></th>\n",
              "      <th></th>\n",
              "      <th></th>\n",
              "      <th></th>\n",
              "    </tr>\n",
              "  </thead>\n",
              "  <tbody>\n",
              "    <tr>\n",
              "      <th>circle</th>\n",
              "      <th>red</th>\n",
              "      <td>20.0</td>\n",
              "      <td>18604.670000</td>\n",
              "      <td>8340.486357</td>\n",
              "      <td>5281.0</td>\n",
              "      <td>12469.0</td>\n",
              "      <td>16061.4</td>\n",
              "      <td>25732.775</td>\n",
              "      <td>31415.9</td>\n",
              "      <td>16.0</td>\n",
              "    </tr>\n",
              "    <tr>\n",
              "      <th>square</th>\n",
              "      <th>red</th>\n",
              "      <td>21.0</td>\n",
              "      <td>6666.142857</td>\n",
              "      <td>1984.759086</td>\n",
              "      <td>3249.0</td>\n",
              "      <td>5184.0</td>\n",
              "      <td>6889.0</td>\n",
              "      <td>8281.000</td>\n",
              "      <td>9801.0</td>\n",
              "      <td>16.8</td>\n",
              "    </tr>\n",
              "    <tr>\n",
              "      <th>triangle</th>\n",
              "      <th>red</th>\n",
              "      <td>84.0</td>\n",
              "      <td>4875.502381</td>\n",
              "      <td>1206.058561</td>\n",
              "      <td>3072.0</td>\n",
              "      <td>3888.0</td>\n",
              "      <td>4740.4</td>\n",
              "      <td>5709.600</td>\n",
              "      <td>7350.8</td>\n",
              "      <td>67.2</td>\n",
              "    </tr>\n",
              "  </tbody>\n",
              "</table>\n",
              "</div>"
            ],
            "text/plain": [
              "                area                ...                       \n",
              "               count          mean  ...      max Percent_Total\n",
              "shape    color                      ...                       \n",
              "circle   red    20.0  18604.670000  ...  31415.9          16.0\n",
              "square   red    21.0   6666.142857  ...   9801.0          16.8\n",
              "triangle red    84.0   4875.502381  ...   7350.8          67.2\n",
              "\n",
              "[3 rows x 9 columns]"
            ]
          },
          "metadata": {
            "tags": []
          },
          "execution_count": 156
        }
      ]
    },
    {
      "cell_type": "markdown",
      "metadata": {
        "id": "g8kkkeb-2iwh",
        "colab_type": "text"
      },
      "source": [
        "*According to the calculations above, the liklihood for a red circle, square, and triangle, each with an area size greater than 3000, is 16%, 16.8%, and 67.2%, respectively.*"
      ]
    },
    {
      "cell_type": "markdown",
      "metadata": {
        "id": "CXulHXBcoOsM",
        "colab_type": "text"
      },
      "source": [
        "**6. Write a function that calculates the side or radius of an object, depending on the shape and area of the object.**"
      ]
    },
    {
      "cell_type": "code",
      "metadata": {
        "id": "dGpeDn4J393t",
        "colab_type": "code",
        "colab": {}
      },
      "source": [
        "def calcSide(shape,area):\n",
        "  \"\"\"Calculates the side, or radius, of an object, depending on the shape and area of the object.\n",
        "  Note: Assumes triangluar shapes are equilateral.\"\"\"\n",
        "  \n",
        "  # Error Handling for Area\n",
        "  if (type(area) is not float) and (type(area) is not int):\n",
        "    raise TypeError(\"Invalid data type for area. Must be of type int or float.\")\n",
        "\n",
        "  # Calculate side dependent on shape\n",
        "  if shape == 'circle':\n",
        "      # area = pi*r**2\n",
        "      side = sqrt(area/pi)\n",
        "  elif shape == 'square':\n",
        "      # area = side**2\n",
        "      side = sqrt(area)\n",
        "  elif shape == 'triangle':\n",
        "      # area = sqrt(3)/4*side**2\n",
        "      side = sqrt(4*area/sqrt(3))\n",
        "  else:\n",
        "    raise ValueError(\"Shape is not currently supported in side calculation. Supported shapes: 'circle','square','triangle'.\")\n",
        "  \n",
        "  return side"
      ],
      "execution_count": null,
      "outputs": []
    },
    {
      "cell_type": "markdown",
      "metadata": {
        "id": "rxDg5ROioO9U",
        "colab_type": "text"
      },
      "source": [
        "**7. Add a column to the dataset called \"side\" that shows the size matching the area in each row, round that number to the closest integer (shape side or radius).**"
      ]
    },
    {
      "cell_type": "code",
      "metadata": {
        "id": "K6BaRdJZ8AmI",
        "colab_type": "code",
        "colab": {
          "base_uri": "https://localhost:8080/",
          "height": 204
        },
        "outputId": "98c5b08b-c670-4113-dae8-8408d7fbe55f"
      },
      "source": [
        "# Add 'side' field to DataFrame\n",
        "shapes_df['side'] = shapes_df.apply(lambda row: calcSide(row['shape'],row['area']), axis=1).round(0).astype('int')\n",
        "\n",
        "# Preview DataFrame with new column\n",
        "shapes_df.head()"
      ],
      "execution_count": null,
      "outputs": [
        {
          "output_type": "execute_result",
          "data": {
            "text/html": [
              "<div>\n",
              "<style scoped>\n",
              "    .dataframe tbody tr th:only-of-type {\n",
              "        vertical-align: middle;\n",
              "    }\n",
              "\n",
              "    .dataframe tbody tr th {\n",
              "        vertical-align: top;\n",
              "    }\n",
              "\n",
              "    .dataframe thead th {\n",
              "        text-align: right;\n",
              "    }\n",
              "</style>\n",
              "<table border=\"1\" class=\"dataframe\">\n",
              "  <thead>\n",
              "    <tr style=\"text-align: right;\">\n",
              "      <th></th>\n",
              "      <th>shape</th>\n",
              "      <th>color</th>\n",
              "      <th>area</th>\n",
              "      <th>side</th>\n",
              "    </tr>\n",
              "  </thead>\n",
              "  <tbody>\n",
              "    <tr>\n",
              "      <th>0</th>\n",
              "      <td>square</td>\n",
              "      <td>yellow</td>\n",
              "      <td>9409.0</td>\n",
              "      <td>97</td>\n",
              "    </tr>\n",
              "    <tr>\n",
              "      <th>1</th>\n",
              "      <td>circle</td>\n",
              "      <td>yellow</td>\n",
              "      <td>4071.5</td>\n",
              "      <td>36</td>\n",
              "    </tr>\n",
              "    <tr>\n",
              "      <th>2</th>\n",
              "      <td>triangle</td>\n",
              "      <td>blue</td>\n",
              "      <td>2028.0</td>\n",
              "      <td>68</td>\n",
              "    </tr>\n",
              "    <tr>\n",
              "      <th>3</th>\n",
              "      <td>square</td>\n",
              "      <td>blue</td>\n",
              "      <td>3025.0</td>\n",
              "      <td>55</td>\n",
              "    </tr>\n",
              "    <tr>\n",
              "      <th>4</th>\n",
              "      <td>square</td>\n",
              "      <td>blue</td>\n",
              "      <td>9216.0</td>\n",
              "      <td>96</td>\n",
              "    </tr>\n",
              "  </tbody>\n",
              "</table>\n",
              "</div>"
            ],
            "text/plain": [
              "      shape   color    area  side\n",
              "0    square  yellow  9409.0    97\n",
              "1    circle  yellow  4071.5    36\n",
              "2  triangle    blue  2028.0    68\n",
              "3    square    blue  3025.0    55\n",
              "4    square    blue  9216.0    96"
            ]
          },
          "metadata": {
            "tags": []
          },
          "execution_count": 158
        }
      ]
    },
    {
      "cell_type": "markdown",
      "metadata": {
        "id": "Wqxxfw37oPPC",
        "colab_type": "text"
      },
      "source": [
        "**8. Draw a boxplot showing the side size distribution for each shape - what can you infer from this plot?**"
      ]
    },
    {
      "cell_type": "code",
      "metadata": {
        "id": "YK6vnSf7D3Qo",
        "colab_type": "code",
        "colab": {
          "base_uri": "https://localhost:8080/",
          "height": 295
        },
        "outputId": "0d5d31b9-6efe-448a-abe7-998cb795f9c9"
      },
      "source": [
        "# Create boxplot shape v. side\n",
        "ax2 = sns.boxplot(x='shape',y='side',data=shapes_df)\n",
        "ax2.set(xlabel='Shape',ylabel='Side (in.)')\n",
        "plt.title('Side Size Distribution of Shapes')\n",
        "\n",
        "# Display Plot\n",
        "plt.show(ax2)"
      ],
      "execution_count": null,
      "outputs": [
        {
          "output_type": "display_data",
          "data": {
            "image/png": "[encoded data removed]",
            "text/plain": [
              "<Figure size 432x288 with 1 Axes>"
            ]
          },
          "metadata": {
            "tags": [],
            "needs_background": "light"
          }
        }
      ]
    },
    {
      "cell_type": "markdown",
      "metadata": {
        "id": "DQ0RvoKREY76",
        "colab_type": "text"
      },
      "source": [
        "*At first glance, what we can infer from the side size distribution is that the circles and squares have almost identical distributions in this dataset. The side size distribution of triangles has a wider range of sizes and, on average, has a larger side size.*\n",
        "\n",
        "*It is important to distinguish that the side of a square is equated to the radius of a circle for the side attribute. While their side size distributions may be very similar, they give completely different shape sizes, due to the nature of their geometry. This boxplot of the shapes' side sizes is not enough to infer much information about the shape itself.*"
      ]
    },
    {
      "cell_type": "markdown",
      "metadata": {
        "id": "tNHTy2tBoPb8",
        "colab_type": "text"
      },
      "source": [
        "**9. Make a scatter plot with \"side\" on the x axis, \"area\" on the y axis with a different color for each shape.**"
      ]
    },
    {
      "cell_type": "code",
      "metadata": {
        "id": "zOVD46x1Fcxl",
        "colab_type": "code",
        "colab": {
          "base_uri": "https://localhost:8080/",
          "height": 295
        },
        "outputId": "b9a5a009-77b1-403d-d426-26a4c2ddfb4a"
      },
      "source": [
        "# Create scatter plot side v. area for each shape\n",
        "ax3 = sns.scatterplot(x='side',y='area',data=shapes_df,hue='shape')\n",
        "ax3.set(xlabel='Side (in.)',ylabel='Area (sq. in.)')\n",
        "plt.title('Side Size v. Area by Shape')\n",
        "\n",
        "# Display Plot\n",
        "plt.show(ax3)"
      ],
      "execution_count": null,
      "outputs": [
        {
          "output_type": "display_data",
          "data": {
            "image/png": "[encoded data removed]",
            "text/plain": [
              "<Figure size 432x288 with 1 Axes>"
            ]
          },
          "metadata": {
            "tags": [],
            "needs_background": "light"
          }
        }
      ]
    },
    {
      "cell_type": "markdown",
      "metadata": {
        "id": "s6tjLH6vpZ-I",
        "colab_type": "text"
      },
      "source": [
        "*Now that we're analyzing the relationship between side size and area for each shape, we can quickly see how the side size impacts the overall area across the three shapes.*"
      ]
    },
    {
      "cell_type": "markdown",
      "metadata": {
        "id": "TmaVYo2boPqh",
        "colab_type": "text"
      },
      "source": [
        "**10. Create a dataframe, table or list that show for each shape:**\n",
        "\n",
        "    a. The proportion of red objects within the shape\n",
        "\n",
        "    b. The proportion of blue area out of the shape's total area (sum of square inch blue area of the shape over sum of all shape size)."
      ]
    },
    {
      "cell_type": "code",
      "metadata": {
        "id": "Oo-Z9atMr0EB",
        "colab_type": "code",
        "colab": {
          "base_uri": "https://localhost:8080/",
          "height": 173
        },
        "outputId": "e7eda6cd-6481-4f12-9718-99899bf7202e"
      },
      "source": [
        "# Calculate Shapes by Color count\n",
        "count = shapes_df[['shape','color','area']].groupby(['shape','color']).agg('count')\n",
        "# Rename area column to count\n",
        "count.columns = ['count']\n",
        "\n",
        "# Calculate Shapes by Color proportion\n",
        "colorProportion = count.groupby(['shape']).apply(lambda x: x/x.sum()).round(2)\n",
        "# Rename area column to proportion\n",
        "colorProportion.columns = ['proportion']\n",
        "\n",
        "# Merge count and proportion objects\n",
        "redShapeProp = count.merge(colorProportion,how='left',on=['shape','color']).reset_index()\n",
        "\n",
        "# Filter DataFrame for red shapes\n",
        "redShapeProp[redShapeProp['color']=='red'].set_index('shape')"
      ],
      "execution_count": null,
      "outputs": [
        {
          "output_type": "execute_result",
          "data": {
            "text/html": [
              "<div>\n",
              "<style scoped>\n",
              "    .dataframe tbody tr th:only-of-type {\n",
              "        vertical-align: middle;\n",
              "    }\n",
              "\n",
              "    .dataframe tbody tr th {\n",
              "        vertical-align: top;\n",
              "    }\n",
              "\n",
              "    .dataframe thead th {\n",
              "        text-align: right;\n",
              "    }\n",
              "</style>\n",
              "<table border=\"1\" class=\"dataframe\">\n",
              "  <thead>\n",
              "    <tr style=\"text-align: right;\">\n",
              "      <th></th>\n",
              "      <th>color</th>\n",
              "      <th>count</th>\n",
              "      <th>proportion</th>\n",
              "    </tr>\n",
              "    <tr>\n",
              "      <th>shape</th>\n",
              "      <th></th>\n",
              "      <th></th>\n",
              "      <th></th>\n",
              "    </tr>\n",
              "  </thead>\n",
              "  <tbody>\n",
              "    <tr>\n",
              "      <th>circle</th>\n",
              "      <td>red</td>\n",
              "      <td>30</td>\n",
              "      <td>0.25</td>\n",
              "    </tr>\n",
              "    <tr>\n",
              "      <th>square</th>\n",
              "      <td>red</td>\n",
              "      <td>56</td>\n",
              "      <td>0.12</td>\n",
              "    </tr>\n",
              "    <tr>\n",
              "      <th>triangle</th>\n",
              "      <td>red</td>\n",
              "      <td>204</td>\n",
              "      <td>0.51</td>\n",
              "    </tr>\n",
              "  </tbody>\n",
              "</table>\n",
              "</div>"
            ],
            "text/plain": [
              "         color  count  proportion\n",
              "shape                            \n",
              "circle     red     30        0.25\n",
              "square     red     56        0.12\n",
              "triangle   red    204        0.51"
            ]
          },
          "metadata": {
            "tags": []
          },
          "execution_count": 163
        }
      ]
    },
    {
      "cell_type": "code",
      "metadata": {
        "id": "67LCrqR1OsHG",
        "colab_type": "code",
        "colab": {
          "base_uri": "https://localhost:8080/",
          "height": 173
        },
        "outputId": "24e30a81-7f86-46e8-8e97-d3c4bee8e99f"
      },
      "source": [
        "# Calculate Shapes by area sum\n",
        "totalArea = shapes_df[['shape','color','area']].groupby(['shape','color']).agg('sum')\n",
        "# Rename area column to count\n",
        "totalArea.columns = ['total']\n",
        "\n",
        "# Calculate Shapes by Color proportion\n",
        "areaProportion = totalArea.groupby(['shape']).apply(lambda x: x/x.sum()).round(2)\n",
        "# Rename area column to proportion\n",
        "areaProportion.columns = ['proportion']\n",
        "\n",
        "# Merge count and proportion objects\n",
        "blueAreaProp = totalArea.merge(areaProportion,how='left',on=['shape','color']).reset_index()\n",
        "\n",
        "# Filter DataFrame for red shapes\n",
        "blueAreaProp[blueAreaProp['color']=='blue'].set_index('shape')"
      ],
      "execution_count": null,
      "outputs": [
        {
          "output_type": "execute_result",
          "data": {
            "text/html": [
              "<div>\n",
              "<style scoped>\n",
              "    .dataframe tbody tr th:only-of-type {\n",
              "        vertical-align: middle;\n",
              "    }\n",
              "\n",
              "    .dataframe tbody tr th {\n",
              "        vertical-align: top;\n",
              "    }\n",
              "\n",
              "    .dataframe thead th {\n",
              "        text-align: right;\n",
              "    }\n",
              "</style>\n",
              "<table border=\"1\" class=\"dataframe\">\n",
              "  <thead>\n",
              "    <tr style=\"text-align: right;\">\n",
              "      <th></th>\n",
              "      <th>color</th>\n",
              "      <th>total</th>\n",
              "      <th>proportion</th>\n",
              "    </tr>\n",
              "    <tr>\n",
              "      <th>shape</th>\n",
              "      <th></th>\n",
              "      <th></th>\n",
              "      <th></th>\n",
              "    </tr>\n",
              "  </thead>\n",
              "  <tbody>\n",
              "    <tr>\n",
              "      <th>circle</th>\n",
              "      <td>blue</td>\n",
              "      <td>78665.4</td>\n",
              "      <td>0.06</td>\n",
              "    </tr>\n",
              "    <tr>\n",
              "      <th>square</th>\n",
              "      <td>blue</td>\n",
              "      <td>586415.0</td>\n",
              "      <td>0.36</td>\n",
              "    </tr>\n",
              "    <tr>\n",
              "      <th>triangle</th>\n",
              "      <td>blue</td>\n",
              "      <td>489847.0</td>\n",
              "      <td>0.47</td>\n",
              "    </tr>\n",
              "  </tbody>\n",
              "</table>\n",
              "</div>"
            ],
            "text/plain": [
              "         color     total  proportion\n",
              "shape                               \n",
              "circle    blue   78665.4        0.06\n",
              "square    blue  586415.0        0.36\n",
              "triangle  blue  489847.0        0.47"
            ]
          },
          "metadata": {
            "tags": []
          },
          "execution_count": 165
        }
      ]
    },
    {
      "cell_type": "markdown",
      "metadata": {
        "id": "rGIsOs7uoP4_",
        "colab_type": "text"
      },
      "source": [
        "**11. Create a function that calculates 10. b. for a given shape and color.**"
      ]
    },
    {
      "cell_type": "code",
      "metadata": {
        "id": "kwvX4thmXU8h",
        "colab_type": "code",
        "colab": {}
      },
      "source": [
        "def shapeAreaProportion(shape, color, df):\n",
        "  \"\"\"Calculates the proportion of a shape's area based on its color\"\"\"\n",
        "  \n",
        "  # Error Handling\n",
        "  if not isinstance(df, pd.DataFrame):\n",
        "    raise TypeError(\"Object is not a DataFrame.\")\n",
        "  \n",
        "  # Unique values of shapes and colors in DataFrame\n",
        "  shapes = df['shape'].unique()\n",
        "  colors = df['color'][df['shape'] == shape].unique()\n",
        "\n",
        "  # Error Handling\n",
        "  if shape not in shapes:\n",
        "    raise ValueError(\"Shape not found in DataFrame. Supported shapes: \",shapes)\n",
        "  if color not in colors:\n",
        "    raise ValueError(\"Color not found in DataFrame. Supported colors for a \",shape,\" : \",colors)\n",
        "  \n",
        "  # Calculate Shapes by area sum\n",
        "  totArea = df[['shape','color','area']].groupby(['shape','color']).agg('sum')\n",
        "  # Rename area column to count\n",
        "  totArea.columns = ['total']\n",
        "\n",
        "  # Calculate Shapes by Color proportion\n",
        "  areaProp = totArea.groupby(['shape']).apply(lambda x: x/x.sum()).round(2)\n",
        "  # Rename area column to proportion\n",
        "  areaProp.columns = ['proportion']\n",
        "\n",
        "  # Merge count and proportion objects\n",
        "  areaProp = totArea.merge(areaProp,how='left',on=['shape','color'])\n",
        "\n",
        "  # Filter DataFrame for red shapes\n",
        "  return areaProp.loc[shape,color]['proportion']"
      ],
      "execution_count": null,
      "outputs": []
    },
    {
      "cell_type": "code",
      "metadata": {
        "id": "3hWfZZChbpvZ",
        "colab_type": "code",
        "colab": {
          "base_uri": "https://localhost:8080/",
          "height": 34
        },
        "outputId": "3101e019-d245-4123-d709-133a7599d890"
      },
      "source": [
        "# Example\n",
        "shapeAreaProportion('circle','blue',shapes_df)"
      ],
      "execution_count": null,
      "outputs": [
        {
          "output_type": "execute_result",
          "data": {
            "text/plain": [
              "0.06"
            ]
          },
          "metadata": {
            "tags": []
          },
          "execution_count": 220
        }
      ]
    }
  ]
}